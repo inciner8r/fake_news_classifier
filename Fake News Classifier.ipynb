{
  "nbformat": 4,
  "nbformat_minor": 0,
  "metadata": {
    "colab": {
      "name": "Fake News Classifier.ipynb",
      "provenance": [],
      "collapsed_sections": []
    },
    "kernelspec": {
      "name": "python3",
      "display_name": "Python 3"
    }
  },
  "cells": [
    {
      "cell_type": "code",
      "metadata": {
        "id": "ZcCDbZGhmnXs",
        "colab_type": "code",
        "colab": {
          "base_uri": "https://localhost:8080/",
          "height": 34
        },
        "outputId": "b0e2a7db-7a5b-4204-f40b-f9d72e236c47"
      },
      "source": [
        "# Connecting Google Drive with Google Colab\n",
        "from google.colab import drive\n",
        "drive.mount('/content/drive/')"
      ],
      "execution_count": 1,
      "outputs": [
        {
          "output_type": "stream",
          "text": [
            "Drive already mounted at /content/drive/; to attempt to forcibly remount, call drive.mount(\"/content/drive/\", force_remount=True).\n"
          ],
          "name": "stdout"
        }
      ]
    },
    {
      "cell_type": "code",
      "metadata": {
        "id": "0XL8qSiJnAVC",
        "colab_type": "code",
        "colab": {}
      },
      "source": [
        "# Loading essential libraries\n",
        "import numpy as np\n",
        "import pandas as pd"
      ],
      "execution_count": 0,
      "outputs": []
    },
    {
      "cell_type": "code",
      "metadata": {
        "id": "IwIMTAGSnbX1",
        "colab_type": "code",
        "colab": {}
      },
      "source": [
        "# Loading the dataset\n",
        "df = pd.read_csv('kaggle_fake_train.csv')"
      ],
      "execution_count": 0,
      "outputs": []
    },
    {
      "cell_type": "markdown",
      "metadata": {
        "id": "6iuacjz-npgZ",
        "colab_type": "text"
      },
      "source": [
        "# **Exploring the dataset**"
      ]
    },
    {
      "cell_type": "code",
      "metadata": {
        "id": "Z9-6SqmfnpP4",
        "colab_type": "code",
        "colab": {
          "base_uri": "https://localhost:8080/",
          "height": 34
        },
        "outputId": "37bc4432-62b2-4761-cdcd-8c32d9df6e4c"
      },
      "source": [
        "df.shape"
      ],
      "execution_count": 4,
      "outputs": [
        {
          "output_type": "execute_result",
          "data": {
            "text/plain": [
              "(20800, 5)"
            ]
          },
          "metadata": {
            "tags": []
          },
          "execution_count": 4
        }
      ]
    },
    {
      "cell_type": "code",
      "metadata": {
        "id": "d4znM4TJnj5w",
        "colab_type": "code",
        "colab": {
          "base_uri": "https://localhost:8080/",
          "height": 34
        },
        "outputId": "f0f5bcb2-d6e8-43ff-8e53-335461332127"
      },
      "source": [
        "df.columns"
      ],
      "execution_count": 5,
      "outputs": [
        {
          "output_type": "execute_result",
          "data": {
            "text/plain": [
              "Index(['id', 'title', 'author', 'text', 'label'], dtype='object')"
            ]
          },
          "metadata": {
            "tags": []
          },
          "execution_count": 5
        }
      ]
    },
    {
      "cell_type": "code",
      "metadata": {
        "id": "HAfocePXnvmY",
        "colab_type": "code",
        "colab": {
          "base_uri": "https://localhost:8080/",
          "height": 197
        },
        "outputId": "8083a24b-07a5-4162-ce57-1b905b76cd9f"
      },
      "source": [
        "df.head()"
      ],
      "execution_count": 6,
      "outputs": [
        {
          "output_type": "execute_result",
          "data": {
            "text/html": [
              "<div>\n",
              "<style scoped>\n",
              "    .dataframe tbody tr th:only-of-type {\n",
              "        vertical-align: middle;\n",
              "    }\n",
              "\n",
              "    .dataframe tbody tr th {\n",
              "        vertical-align: top;\n",
              "    }\n",
              "\n",
              "    .dataframe thead th {\n",
              "        text-align: right;\n",
              "    }\n",
              "</style>\n",
              "<table border=\"1\" class=\"dataframe\">\n",
              "  <thead>\n",
              "    <tr style=\"text-align: right;\">\n",
              "      <th></th>\n",
              "      <th>id</th>\n",
              "      <th>title</th>\n",
              "      <th>author</th>\n",
              "      <th>text</th>\n",
              "      <th>label</th>\n",
              "    </tr>\n",
              "  </thead>\n",
              "  <tbody>\n",
              "    <tr>\n",
              "      <th>0</th>\n",
              "      <td>0</td>\n",
              "      <td>House Dem Aide: We Didn’t Even See Comey’s Let...</td>\n",
              "      <td>Darrell Lucus</td>\n",
              "      <td>House Dem Aide: We Didn’t Even See Comey’s Let...</td>\n",
              "      <td>1</td>\n",
              "    </tr>\n",
              "    <tr>\n",
              "      <th>1</th>\n",
              "      <td>1</td>\n",
              "      <td>FLYNN: Hillary Clinton, Big Woman on Campus - ...</td>\n",
              "      <td>Daniel J. Flynn</td>\n",
              "      <td>Ever get the feeling your life circles the rou...</td>\n",
              "      <td>0</td>\n",
              "    </tr>\n",
              "    <tr>\n",
              "      <th>2</th>\n",
              "      <td>2</td>\n",
              "      <td>Why the Truth Might Get You Fired</td>\n",
              "      <td>Consortiumnews.com</td>\n",
              "      <td>Why the Truth Might Get You Fired October 29, ...</td>\n",
              "      <td>1</td>\n",
              "    </tr>\n",
              "    <tr>\n",
              "      <th>3</th>\n",
              "      <td>3</td>\n",
              "      <td>15 Civilians Killed In Single US Airstrike Hav...</td>\n",
              "      <td>Jessica Purkiss</td>\n",
              "      <td>Videos 15 Civilians Killed In Single US Airstr...</td>\n",
              "      <td>1</td>\n",
              "    </tr>\n",
              "    <tr>\n",
              "      <th>4</th>\n",
              "      <td>4</td>\n",
              "      <td>Iranian woman jailed for fictional unpublished...</td>\n",
              "      <td>Howard Portnoy</td>\n",
              "      <td>Print \\nAn Iranian woman has been sentenced to...</td>\n",
              "      <td>1</td>\n",
              "    </tr>\n",
              "  </tbody>\n",
              "</table>\n",
              "</div>"
            ],
            "text/plain": [
              "   id  ... label\n",
              "0   0  ...     1\n",
              "1   1  ...     0\n",
              "2   2  ...     1\n",
              "3   3  ...     1\n",
              "4   4  ...     1\n",
              "\n",
              "[5 rows x 5 columns]"
            ]
          },
          "metadata": {
            "tags": []
          },
          "execution_count": 6
        }
      ]
    },
    {
      "cell_type": "code",
      "metadata": {
        "id": "QmgbOrT6nyP6",
        "colab_type": "code",
        "colab": {}
      },
      "source": [
        "# Dropping the 'id' column\n",
        "df.drop('id', axis=1, inplace=True)"
      ],
      "execution_count": 0,
      "outputs": []
    },
    {
      "cell_type": "code",
      "metadata": {
        "id": "ktyP94y6n-m6",
        "colab_type": "code",
        "colab": {
          "base_uri": "https://localhost:8080/",
          "height": 34
        },
        "outputId": "1094409b-8352-47d4-ff07-b46204aedcfb"
      },
      "source": [
        "df.columns"
      ],
      "execution_count": 8,
      "outputs": [
        {
          "output_type": "execute_result",
          "data": {
            "text/plain": [
              "Index(['title', 'author', 'text', 'label'], dtype='object')"
            ]
          },
          "metadata": {
            "tags": []
          },
          "execution_count": 8
        }
      ]
    },
    {
      "cell_type": "code",
      "metadata": {
        "id": "NfDeH3knoE31",
        "colab_type": "code",
        "colab": {
          "base_uri": "https://localhost:8080/",
          "height": 72
        },
        "outputId": "40dbfec0-80aa-4c93-e058-3ed358d5e658"
      },
      "source": [
        "# Importing essential libraries for visualization\n",
        "import matplotlib.pyplot as plt\n",
        "import seaborn as sns\n",
        "%matplotlib inline"
      ],
      "execution_count": 9,
      "outputs": [
        {
          "output_type": "stream",
          "text": [
            "/usr/local/lib/python3.6/dist-packages/statsmodels/tools/_testing.py:19: FutureWarning: pandas.util.testing is deprecated. Use the functions in the public API at pandas.testing instead.\n",
            "  import pandas.util.testing as tm\n"
          ],
          "name": "stderr"
        }
      ]
    },
    {
      "cell_type": "code",
      "metadata": {
        "id": "NEc1wXHkoAf8",
        "colab_type": "code",
        "colab": {
          "base_uri": "https://localhost:8080/",
          "height": 460
        },
        "outputId": "83cb4538-692c-4b23-fe97-9e260eab1863"
      },
      "source": [
        "# Visualizing the count of 'fake news' in the dataset\n",
        "plt.figure(figsize=(10,7))\n",
        "sns.countplot(x='label', data=df)\n",
        "plt.xlabel('News Classification')\n",
        "plt.ylabel('Count')"
      ],
      "execution_count": 10,
      "outputs": [
        {
          "output_type": "execute_result",
          "data": {
            "text/plain": [
              "Text(0, 0.5, 'Count')"
            ]
          },
          "metadata": {
            "tags": []
          },
          "execution_count": 10
        },
        {
          "output_type": "display_data",
          "data": {
            "image/png": "[encoded data removed]",
            "text/plain": [
              "<Figure size 720x504 with 1 Axes>"
            ]
          },
          "metadata": {
            "tags": [],
            "needs_background": "light"
          }
        }
      ]
    },
    {
      "cell_type": "markdown",
      "metadata": {
        "id": "BrlePiZKoucH",
        "colab_type": "text"
      },
      "source": [
        "# **Data Cleaning and Preprocessing**"
      ]
    },
    {
      "cell_type": "code",
      "metadata": {
        "id": "_LRbTGNmpd-G",
        "colab_type": "code",
        "colab": {
          "base_uri": "https://localhost:8080/",
          "height": 34
        },
        "outputId": "ef0d8d6d-490b-485d-a7d5-92526e1bc1c1"
      },
      "source": [
        "print(df.shape)"
      ],
      "execution_count": 11,
      "outputs": [
        {
          "output_type": "stream",
          "text": [
            "(20800, 4)\n"
          ],
          "name": "stdout"
        }
      ]
    },
    {
      "cell_type": "code",
      "metadata": {
        "id": "l7RrAvHcouSu",
        "colab_type": "code",
        "colab": {
          "base_uri": "https://localhost:8080/",
          "height": 105
        },
        "outputId": "943ca986-eb4d-4ced-916b-6182e2a5cc00"
      },
      "source": [
        "# Finding any NaN values\n",
        "df.isna().any()"
      ],
      "execution_count": 12,
      "outputs": [
        {
          "output_type": "execute_result",
          "data": {
            "text/plain": [
              "title      True\n",
              "author     True\n",
              "text       True\n",
              "label     False\n",
              "dtype: bool"
            ]
          },
          "metadata": {
            "tags": []
          },
          "execution_count": 12
        }
      ]
    },
    {
      "cell_type": "code",
      "metadata": {
        "id": "mSKDDIQJoqAb",
        "colab_type": "code",
        "colab": {
          "base_uri": "https://localhost:8080/",
          "height": 34
        },
        "outputId": "7dea0972-a942-400c-babc-6625d4124d74"
      },
      "source": [
        "# Dropping NaN values\n",
        "df.dropna(inplace=True)\n",
        "print(df.shape)"
      ],
      "execution_count": 13,
      "outputs": [
        {
          "output_type": "stream",
          "text": [
            "(18285, 4)\n"
          ],
          "name": "stdout"
        }
      ]
    },
    {
      "cell_type": "code",
      "metadata": {
        "id": "htWTugiepSur",
        "colab_type": "code",
        "colab": {}
      },
      "source": [
        "news = df.copy()"
      ],
      "execution_count": 0,
      "outputs": []
    },
    {
      "cell_type": "code",
      "metadata": {
        "id": "8Ywllapkpg9N",
        "colab_type": "code",
        "colab": {}
      },
      "source": [
        "news.reset_index(inplace=True)"
      ],
      "execution_count": 0,
      "outputs": []
    },
    {
      "cell_type": "code",
      "metadata": {
        "id": "Hs7V09SpqB2E",
        "colab_type": "code",
        "colab": {
          "base_uri": "https://localhost:8080/",
          "height": 52
        },
        "outputId": "4a07a6f6-6e27-4f56-f48a-5e4ea453c0c0"
      },
      "source": [
        "# Importing essential libraries for performing Natural Language Processing on 'kaggle_fake_train' dataset\n",
        "import nltk\n",
        "import re\n",
        "nltk.download('stopwords')\n",
        "from nltk.corpus import stopwords\n",
        "from nltk.stem import PorterStemmer"
      ],
      "execution_count": 16,
      "outputs": [
        {
          "output_type": "stream",
          "text": [
            "[nltk_data] Downloading package stopwords to /root/nltk_data...\n",
            "[nltk_data]   Package stopwords is already up-to-date!\n"
          ],
          "name": "stdout"
        }
      ]
    },
    {
      "cell_type": "code",
      "metadata": {
        "id": "xsWQfY8lqRLF",
        "colab_type": "code",
        "colab": {}
      },
      "source": [
        "# Cleaning the news\n",
        "corpus = []\n",
        "ps = PorterStemmer()\n",
        "\n",
        "for i in range(0,news.shape[0]):\n",
        "\n",
        "  # Cleaning special character from the news-title\n",
        "  title = re.sub(pattern='[^a-zA-Z]', repl=' ', string=news.title[i])\n",
        "\n",
        "  # Converting the entire news-title to lower case\n",
        "  title = title.lower()\n",
        "\n",
        "  # Tokenizing the news-title by words\n",
        "  words = title.split()\n",
        "\n",
        "  # Removing the stopwords\n",
        "  words = [word for word in words if word not in set(stopwords.words('english'))]\n",
        "\n",
        "  # Stemming the words\n",
        "  words = [ps.stem(word) for word in words]\n",
        "\n",
        "  # Joining the stemmed words\n",
        "  title = ' '.join(words)\n",
        "\n",
        "  # Building a corpus of news-title\n",
        "  corpus.append(title)"
      ],
      "execution_count": 0,
      "outputs": []
    },
    {
      "cell_type": "code",
      "metadata": {
        "id": "lZ3JNG4ZtK5R",
        "colab_type": "code",
        "colab": {
          "base_uri": "https://localhost:8080/",
          "height": 194
        },
        "outputId": "19a24970-296f-444a-e186-c33b554c8b15"
      },
      "source": [
        "corpus[0:10]"
      ],
      "execution_count": 18,
      "outputs": [
        {
          "output_type": "execute_result",
          "data": {
            "text/plain": [
              "['hous dem aid even see comey letter jason chaffetz tweet',\n",
              " 'flynn hillari clinton big woman campu breitbart',\n",
              " 'truth might get fire',\n",
              " 'civilian kill singl us airstrik identifi',\n",
              " 'iranian woman jail fiction unpublish stori woman stone death adulteri',\n",
              " 'jacki mason hollywood would love trump bomb north korea lack tran bathroom exclus video breitbart',\n",
              " 'beno hamon win french socialist parti presidenti nomin new york time',\n",
              " 'back channel plan ukrain russia courtesi trump associ new york time',\n",
              " 'obama organ action partner soro link indivis disrupt trump agenda',\n",
              " 'bbc comedi sketch real housew isi caus outrag']"
            ]
          },
          "metadata": {
            "tags": []
          },
          "execution_count": 18
        }
      ]
    },
    {
      "cell_type": "code",
      "metadata": {
        "id": "DfYUcXaHucBM",
        "colab_type": "code",
        "colab": {}
      },
      "source": [
        "# Creating the Bag of Words model\n",
        "from sklearn.feature_extraction.text import CountVectorizer\n",
        "cv = CountVectorizer(max_features=5000, ngram_range=(1,3))\n",
        "X = cv.fit_transform(corpus).toarray()"
      ],
      "execution_count": 0,
      "outputs": []
    },
    {
      "cell_type": "code",
      "metadata": {
        "id": "aiMfO0Qju3C1",
        "colab_type": "code",
        "colab": {
          "base_uri": "https://localhost:8080/",
          "height": 34
        },
        "outputId": "c839a381-f688-4df5-9208-c94d3619e8f7"
      },
      "source": [
        "X.shape"
      ],
      "execution_count": 20,
      "outputs": [
        {
          "output_type": "execute_result",
          "data": {
            "text/plain": [
              "(18285, 5000)"
            ]
          },
          "metadata": {
            "tags": []
          },
          "execution_count": 20
        }
      ]
    },
    {
      "cell_type": "code",
      "metadata": {
        "id": "f6BVxTlPvH4e",
        "colab_type": "code",
        "colab": {
          "base_uri": "https://localhost:8080/",
          "height": 141
        },
        "outputId": "d0514d18-0da5-4a44-a631-8cc007698742"
      },
      "source": [
        "X[0:10]"
      ],
      "execution_count": 21,
      "outputs": [
        {
          "output_type": "execute_result",
          "data": {
            "text/plain": [
              "array([[0, 0, 0, ..., 0, 0, 0],\n",
              "       [0, 0, 0, ..., 0, 0, 0],\n",
              "       [0, 0, 0, ..., 0, 0, 0],\n",
              "       ...,\n",
              "       [0, 0, 0, ..., 0, 0, 0],\n",
              "       [0, 0, 0, ..., 0, 0, 0],\n",
              "       [0, 0, 0, ..., 0, 0, 0]])"
            ]
          },
          "metadata": {
            "tags": []
          },
          "execution_count": 21
        }
      ]
    },
    {
      "cell_type": "code",
      "metadata": {
        "id": "iRdKyXDCvMOv",
        "colab_type": "code",
        "colab": {}
      },
      "source": [
        "# Extracting dependent variable from the dataset\n",
        "y = news['label']"
      ],
      "execution_count": 0,
      "outputs": []
    },
    {
      "cell_type": "markdown",
      "metadata": {
        "id": "7Yy_1Blwvg14",
        "colab_type": "text"
      },
      "source": [
        "# **Model Building**"
      ]
    },
    {
      "cell_type": "code",
      "metadata": {
        "id": "Fn8ZmMWLvVUe",
        "colab_type": "code",
        "colab": {}
      },
      "source": [
        "from sklearn.model_selection import train_test_split\n",
        "X_train, X_test, y_train, y_test = train_test_split(X, y, test_size=0.20, random_state=0)"
      ],
      "execution_count": 0,
      "outputs": []
    },
    {
      "cell_type": "markdown",
      "metadata": {
        "id": "FjKxXNTGwUEd",
        "colab_type": "text"
      },
      "source": [
        "## *Multinomial Naive Bayes*"
      ]
    },
    {
      "cell_type": "code",
      "metadata": {
        "id": "TOTTYdh3wPdD",
        "colab_type": "code",
        "colab": {
          "base_uri": "https://localhost:8080/",
          "height": 34
        },
        "outputId": "86afa01f-d085-430d-a086-ed9fc4ec1cca"
      },
      "source": [
        "# Fitting Naive Bayes to the Training set\n",
        "from sklearn.naive_bayes import MultinomialNB\n",
        "nb_classifier = MultinomialNB()\n",
        "nb_classifier.fit(X_train, y_train)"
      ],
      "execution_count": 24,
      "outputs": [
        {
          "output_type": "execute_result",
          "data": {
            "text/plain": [
              "MultinomialNB(alpha=1.0, class_prior=None, fit_prior=True)"
            ]
          },
          "metadata": {
            "tags": []
          },
          "execution_count": 24
        }
      ]
    },
    {
      "cell_type": "code",
      "metadata": {
        "id": "uFsgFy_4xAWl",
        "colab_type": "code",
        "colab": {}
      },
      "source": [
        "# Predicting the Test set results\n",
        "nb_y_pred = nb_classifier.predict(X_test)"
      ],
      "execution_count": 0,
      "outputs": []
    },
    {
      "cell_type": "code",
      "metadata": {
        "id": "WI7i5hVtxATy",
        "colab_type": "code",
        "colab": {
          "base_uri": "https://localhost:8080/",
          "height": 87
        },
        "outputId": "eb962398-3307-46d0-e046-1c6661afb046"
      },
      "source": [
        "# Accuracy, Precision and Recall\n",
        "from sklearn.metrics import accuracy_score, precision_score, recall_score\n",
        "score1 = accuracy_score(y_test, nb_y_pred)\n",
        "score2 = precision_score(y_test, nb_y_pred)\n",
        "score3 = recall_score(y_test, nb_y_pred)\n",
        "print(\"---- Scores ----\")\n",
        "print(\"Accuracy score is: {}%\".format(round(score1*100,2)))\n",
        "print(\"Precision score is: {}\".format(round(score2,2)))\n",
        "print(\"Recall score is: {}\".format(round(score3,2)))"
      ],
      "execution_count": 26,
      "outputs": [
        {
          "output_type": "stream",
          "text": [
            "---- Scores ----\n",
            "Accuracy score is: 90.16%\n",
            "Precision score is: 0.87\n",
            "Recall score is: 0.91\n"
          ],
          "name": "stdout"
        }
      ]
    },
    {
      "cell_type": "code",
      "metadata": {
        "id": "Gwb8A_jKxAQJ",
        "colab_type": "code",
        "colab": {}
      },
      "source": [
        "# Making the Confusion Matrix\n",
        "from sklearn.metrics import confusion_matrix\n",
        "nb_cm = confusion_matrix(y_test, nb_y_pred)"
      ],
      "execution_count": 0,
      "outputs": []
    },
    {
      "cell_type": "code",
      "metadata": {
        "id": "zRve76rKxAME",
        "colab_type": "code",
        "colab": {
          "base_uri": "https://localhost:8080/",
          "height": 52
        },
        "outputId": "8c85590d-e407-451a-f618-291b48b7d9c3"
      },
      "source": [
        "nb_cm"
      ],
      "execution_count": 28,
      "outputs": [
        {
          "output_type": "execute_result",
          "data": {
            "text/plain": [
              "array([[1823,  217],\n",
              "       [ 143, 1474]])"
            ]
          },
          "metadata": {
            "tags": []
          },
          "execution_count": 28
        }
      ]
    },
    {
      "cell_type": "code",
      "metadata": {
        "id": "ONbdg2xuxYNP",
        "colab_type": "code",
        "colab": {
          "base_uri": "https://localhost:8080/",
          "height": 457
        },
        "outputId": "a043ba0a-43d1-4c22-8b4b-3ea9a7dbca39"
      },
      "source": [
        "# Plotting the confusion matrix\n",
        "plt.figure(figsize=(10,7))\n",
        "sns.heatmap(data=nb_cm, annot=True, cmap=\"Blues\", xticklabels=['Real', 'Fake'], yticklabels=['Real', 'Fake'])\n",
        "plt.xlabel('Predicted values')\n",
        "plt.ylabel('Actual values')\n",
        "plt.title('Confusion Matrix for Multinomial Naive Bayes Algorithm')\n",
        "plt.show()"
      ],
      "execution_count": 29,
      "outputs": [
        {
          "output_type": "display_data",
          "data": {
            "image/png": "[encoded data removed]",
            "text/plain": [
              "<Figure size 720x504 with 2 Axes>"
            ]
          },
          "metadata": {
            "tags": [],
            "needs_background": "light"
          }
        }
      ]
    },
    {
      "cell_type": "code",
      "metadata": {
        "id": "BT6y8yv60bdD",
        "colab_type": "code",
        "colab": {
          "base_uri": "https://localhost:8080/",
          "height": 230
        },
        "outputId": "4228b7a0-906d-4e0e-e0be-948806dc967a"
      },
      "source": [
        "# Hyperparameter tuning the Naive Bayes Classifier\n",
        "best_accuracy = 0.0\n",
        "alpha_val = 0.0\n",
        "for i in np.arange(0.1,1.1,0.1):\n",
        "  temp_classifier = MultinomialNB(alpha=i)\n",
        "  temp_classifier.fit(X_train, y_train)\n",
        "  temp_y_pred = temp_classifier.predict(X_test)\n",
        "  score = accuracy_score(y_test, temp_y_pred)\n",
        "  print(\"Accuracy score for alpha={} is: {}%\".format(round(i,1), round(score*100,2)))\n",
        "  if score>best_accuracy:\n",
        "    best_accuracy = score\n",
        "    alpha_val = i\n",
        "print('--------------------------------------------')\n",
        "print('The best accuracy is {}% with alpha value as {}'.format(round(best_accuracy*100, 2), round(alpha_val,1)))"
      ],
      "execution_count": 30,
      "outputs": [
        {
          "output_type": "stream",
          "text": [
            "Accuracy score for alpha=0.1 is: 90.51%\n",
            "Accuracy score for alpha=0.2 is: 90.51%\n",
            "Accuracy score for alpha=0.3 is: 90.59%\n",
            "Accuracy score for alpha=0.4 is: 90.51%\n",
            "Accuracy score for alpha=0.5 is: 90.43%\n",
            "Accuracy score for alpha=0.6 is: 90.37%\n",
            "Accuracy score for alpha=0.7 is: 90.27%\n",
            "Accuracy score for alpha=0.8 is: 90.21%\n",
            "Accuracy score for alpha=0.9 is: 90.16%\n",
            "Accuracy score for alpha=1.0 is: 90.16%\n",
            "--------------------------------------------\n",
            "The best accuracy is 90.59% with alpha value as 0.3\n"
          ],
          "name": "stdout"
        }
      ]
    },
    {
      "cell_type": "markdown",
      "metadata": {
        "colab_type": "text",
        "id": "iO5PakIjwfG7"
      },
      "source": [
        "## *Logistic Regression*"
      ]
    },
    {
      "cell_type": "code",
      "metadata": {
        "id": "d4G5qV5GwlBI",
        "colab_type": "code",
        "colab": {
          "base_uri": "https://localhost:8080/",
          "height": 105
        },
        "outputId": "7063a510-ac34-48cf-bbb9-e0adf7a4856f"
      },
      "source": [
        "from sklearn.linear_model import LogisticRegression\n",
        "lr_classifier = LogisticRegression(random_state=0)\n",
        "lr_classifier.fit(X_train, y_train)"
      ],
      "execution_count": 31,
      "outputs": [
        {
          "output_type": "execute_result",
          "data": {
            "text/plain": [
              "LogisticRegression(C=1.0, class_weight=None, dual=False, fit_intercept=True,\n",
              "                   intercept_scaling=1, l1_ratio=None, max_iter=100,\n",
              "                   multi_class='auto', n_jobs=None, penalty='l2',\n",
              "                   random_state=0, solver='lbfgs', tol=0.0001, verbose=0,\n",
              "                   warm_start=False)"
            ]
          },
          "metadata": {
            "tags": []
          },
          "execution_count": 31
        }
      ]
    },
    {
      "cell_type": "code",
      "metadata": {
        "id": "c11DXHNjy9Nz",
        "colab_type": "code",
        "colab": {}
      },
      "source": [
        "# Predicting the Test set results\n",
        "lr_y_pred = lr_classifier.predict(X_test)"
      ],
      "execution_count": 0,
      "outputs": []
    },
    {
      "cell_type": "code",
      "metadata": {
        "id": "qyHBMjwezBsa",
        "colab_type": "code",
        "colab": {
          "base_uri": "https://localhost:8080/",
          "height": 87
        },
        "outputId": "44f22748-a6cd-4b79-d330-bdb156fe2339"
      },
      "source": [
        "# Accuracy, Precision and Recall\n",
        "from sklearn.metrics import accuracy_score, precision_score, recall_score\n",
        "score1 = accuracy_score(y_test, lr_y_pred)\n",
        "score2 = precision_score(y_test, lr_y_pred)\n",
        "score3 = recall_score(y_test, lr_y_pred)\n",
        "print(\"---- Scores ----\")\n",
        "print(\"Accuracy score is: {}%\".format(round(score1*100,2)))\n",
        "print(\"Precision score is: {}\".format(round(score2,2)))\n",
        "print(\"Recall score is: {}\".format(round(score3,2)))"
      ],
      "execution_count": 33,
      "outputs": [
        {
          "output_type": "stream",
          "text": [
            "---- Scores ----\n",
            "Accuracy score is: 93.52%\n",
            "Precision score is: 0.89\n",
            "Recall score is: 0.97\n"
          ],
          "name": "stdout"
        }
      ]
    },
    {
      "cell_type": "code",
      "metadata": {
        "id": "3eAw7HB-zEJ6",
        "colab_type": "code",
        "colab": {}
      },
      "source": [
        "# Making the Confusion Matrix\n",
        "from sklearn.metrics import confusion_matrix\n",
        "lr_cm = confusion_matrix(y_test, lr_y_pred)"
      ],
      "execution_count": 0,
      "outputs": []
    },
    {
      "cell_type": "code",
      "metadata": {
        "id": "NUrSlyY8zJ7K",
        "colab_type": "code",
        "colab": {
          "base_uri": "https://localhost:8080/",
          "height": 52
        },
        "outputId": "9065685e-804c-47d4-dd30-69e613c12e1d"
      },
      "source": [
        "lr_cm"
      ],
      "execution_count": 35,
      "outputs": [
        {
          "output_type": "execute_result",
          "data": {
            "text/plain": [
              "array([[1850,  190],\n",
              "       [  47, 1570]])"
            ]
          },
          "metadata": {
            "tags": []
          },
          "execution_count": 35
        }
      ]
    },
    {
      "cell_type": "code",
      "metadata": {
        "id": "F4x7FKj9zZHM",
        "colab_type": "code",
        "colab": {
          "base_uri": "https://localhost:8080/",
          "height": 457
        },
        "outputId": "9c65b440-31b5-4c76-b88d-0a78cc2b0a18"
      },
      "source": [
        "# Plotting the confusion matrix\n",
        "plt.figure(figsize=(10,7))\n",
        "sns.heatmap(data=nb_cm, annot=True, cmap=\"Blues\", xticklabels=['Real', 'Fake'], yticklabels=['Real', 'Fake'])\n",
        "plt.xlabel('Predicted values')\n",
        "plt.ylabel('Actual values')\n",
        "plt.title('Confusion Matrix for Logistic Regression Algorithm')\n",
        "plt.show()"
      ],
      "execution_count": 36,
      "outputs": [
        {
          "output_type": "display_data",
          "data": {
            "image/png": "[encoded data removed]",
            "text/plain": [
              "<Figure size 720x504 with 2 Axes>"
            ]
          },
          "metadata": {
            "tags": [],
            "needs_background": "light"
          }
        }
      ]
    },
    {
      "cell_type": "code",
      "metadata": {
        "id": "sV9tNILK0iYy",
        "colab_type": "code",
        "colab": {
          "base_uri": "https://localhost:8080/",
          "height": 230
        },
        "outputId": "d569a956-7c3f-4a70-86b0-472c5f3dfe95"
      },
      "source": [
        "# Hyperparameter tuning the Logistic Regression Classifier\n",
        "best_accuracy = 0.0\n",
        "c_val = 0.0\n",
        "for i in np.arange(0.1,1.1,0.1):\n",
        "  temp_classifier = LogisticRegression(C=i, random_state=0)\n",
        "  temp_classifier.fit(X_train, y_train)\n",
        "  temp_y_pred = temp_classifier.predict(X_test)\n",
        "  score = accuracy_score(y_test, temp_y_pred)\n",
        "  print(\"Accuracy score for C={} is: {}%\".format(round(i,1), round(score*100,2)))\n",
        "  if score>best_accuracy:\n",
        "    best_accuracy = score\n",
        "    c_val = i\n",
        "print('--------------------------------------------')\n",
        "print('The best accuracy is {}% with C value as {}'.format(round(best_accuracy*100, 2), round(c_val,1)))"
      ],
      "execution_count": 37,
      "outputs": [
        {
          "output_type": "stream",
          "text": [
            "Accuracy score for C=0.1 is: 92.02%\n",
            "Accuracy score for C=0.2 is: 92.86%\n",
            "Accuracy score for C=0.3 is: 93.22%\n",
            "Accuracy score for C=0.4 is: 93.38%\n",
            "Accuracy score for C=0.5 is: 93.49%\n",
            "Accuracy score for C=0.6 is: 93.49%\n",
            "Accuracy score for C=0.7 is: 93.55%\n",
            "Accuracy score for C=0.8 is: 93.63%\n",
            "Accuracy score for C=0.9 is: 93.57%\n",
            "Accuracy score for C=1.0 is: 93.52%\n",
            "--------------------------------------------\n",
            "The best accuracy is 93.63% with C value as 0.8\n"
          ],
          "name": "stdout"
        }
      ]
    },
    {
      "cell_type": "code",
      "metadata": {
        "id": "34AeF4zH2ZQi",
        "colab_type": "code",
        "colab": {
          "base_uri": "https://localhost:8080/",
          "height": 105
        },
        "outputId": "b7f5fc14-6bf0-4c1a-c990-179959b8f922"
      },
      "source": [
        "classifier = LogisticRegression(C=0.8, random_state=0)\n",
        "classifier.fit(X_train, y_train)"
      ],
      "execution_count": 38,
      "outputs": [
        {
          "output_type": "execute_result",
          "data": {
            "text/plain": [
              "LogisticRegression(C=0.8, class_weight=None, dual=False, fit_intercept=True,\n",
              "                   intercept_scaling=1, l1_ratio=None, max_iter=100,\n",
              "                   multi_class='auto', n_jobs=None, penalty='l2',\n",
              "                   random_state=0, solver='lbfgs', tol=0.0001, verbose=0,\n",
              "                   warm_start=False)"
            ]
          },
          "metadata": {
            "tags": []
          },
          "execution_count": 38
        }
      ]
    },
    {
      "cell_type": "markdown",
      "metadata": {
        "id": "EqUSsQDy2MqS",
        "colab_type": "text"
      },
      "source": [
        "# **Predictions**"
      ]
    },
    {
      "cell_type": "code",
      "metadata": {
        "id": "4iuCDYxQ2F0h",
        "colab_type": "code",
        "colab": {}
      },
      "source": [
        "def fake_news(sample_news):\n",
        "  sample_news = re.sub(pattern='[^a-zA-Z]',repl=' ', string=sample_news)\n",
        "  sample_news = sample_news.lower()\n",
        "  sample_news_words = sample_news.split()\n",
        "  sample_news_words = [word for word in sample_news_words if not word in set(stopwords.words('english'))]\n",
        "  ps = PorterStemmer()\n",
        "  final_news = [ps.stem(word) for word in sample_news_words]\n",
        "  final_news = ' '.join(final_news)\n",
        "\n",
        "  temp = cv.transform([final_news]).toarray()\n",
        "  return classifier.predict(temp)"
      ],
      "execution_count": 0,
      "outputs": []
    },
    {
      "cell_type": "code",
      "metadata": {
        "id": "NZwm4e0X25Ja",
        "colab_type": "code",
        "colab": {}
      },
      "source": [
        "# Importing test dataset\n",
        "df_test = pd.read_csv('kaggle_fake_test.csv')"
      ],
      "execution_count": 0,
      "outputs": []
    },
    {
      "cell_type": "code",
      "metadata": {
        "id": "focnmTb-3KSr",
        "colab_type": "code",
        "colab": {
          "base_uri": "https://localhost:8080/",
          "height": 34
        },
        "outputId": "6ae8e31d-0c86-4107-814c-e72ccfea7d11"
      },
      "source": [
        "df_test.columns"
      ],
      "execution_count": 41,
      "outputs": [
        {
          "output_type": "execute_result",
          "data": {
            "text/plain": [
              "Index(['id', 'title', 'author', 'text'], dtype='object')"
            ]
          },
          "metadata": {
            "tags": []
          },
          "execution_count": 41
        }
      ]
    },
    {
      "cell_type": "code",
      "metadata": {
        "id": "inCkSjmF3GWL",
        "colab_type": "code",
        "colab": {}
      },
      "source": [
        "news_title = df_test['title']"
      ],
      "execution_count": 0,
      "outputs": []
    },
    {
      "cell_type": "code",
      "metadata": {
        "id": "Lxc4I_If3jlF",
        "colab_type": "code",
        "colab": {
          "base_uri": "https://localhost:8080/",
          "height": 34
        },
        "outputId": "948c731e-3ee1-4dae-e526-1ae189737912"
      },
      "source": [
        "news_title.shape"
      ],
      "execution_count": 43,
      "outputs": [
        {
          "output_type": "execute_result",
          "data": {
            "text/plain": [
              "(5200,)"
            ]
          },
          "metadata": {
            "tags": []
          },
          "execution_count": 43
        }
      ]
    },
    {
      "cell_type": "code",
      "metadata": {
        "id": "BvBLbvLJ3_yd",
        "colab_type": "code",
        "colab": {}
      },
      "source": [
        "# For generating random integer\n",
        "from random import randint"
      ],
      "execution_count": 0,
      "outputs": []
    },
    {
      "cell_type": "code",
      "metadata": {
        "id": "YdCPc3sY22XK",
        "colab_type": "code",
        "colab": {
          "base_uri": "https://localhost:8080/",
          "height": 52
        },
        "outputId": "8f3a4977-4b79-41e9-8daa-d80dd6075d31"
      },
      "source": [
        "# Predicting values\n",
        "row = randint(0,news_title.shape[0]-1)\n",
        "sample_news = news_title[row]\n",
        "\n",
        "print('News: {}'.format(sample_news))\n",
        "if fake_news(sample_news):\n",
        "  print('Prediction: This is a FAKE news!')\n",
        "else:\n",
        "  print('Prediction: This is a REAL news.')"
      ],
      "execution_count": 45,
      "outputs": [
        {
          "output_type": "stream",
          "text": [
            "News: Chart Of The Day: The Great Prosperity (1947-79) Vs. The Great Regression (1980-2016)\n",
            "Prediction: This is a FAKE news!\n"
          ],
          "name": "stdout"
        }
      ]
    },
    {
      "cell_type": "code",
      "metadata": {
        "id": "Z00F_IgF5Ieg",
        "colab_type": "code",
        "colab": {
          "base_uri": "https://localhost:8080/",
          "height": 52
        },
        "outputId": "98a4ae18-5217-49e0-88f2-5a4bd844210e"
      },
      "source": [
        "# Predicting values\n",
        "row = randint(0,news_title.shape[0]-1)\n",
        "sample_news = news_title[row]\n",
        "\n",
        "print('News: {}'.format(sample_news))\n",
        "if fake_news(sample_news):\n",
        "  print('Prediction: This is a FAKE news!')\n",
        "else:\n",
        "  print('Prediction: This is a REAL news.')"
      ],
      "execution_count": 46,
      "outputs": [
        {
          "output_type": "stream",
          "text": [
            "News: Tim Tebow Will Attempt Another Comeback, This Time in Baseball - The New York Times\n",
            "Prediction: This is a REAL news.\n"
          ],
          "name": "stdout"
        }
      ]
    },
    {
      "cell_type": "code",
      "metadata": {
        "id": "H5yVYNlh44WV",
        "colab_type": "code",
        "colab": {
          "base_uri": "https://localhost:8080/",
          "height": 52
        },
        "outputId": "e589517b-8618-4b50-d18d-54b8ad8688ed"
      },
      "source": [
        "# Predicting values\n",
        "row = randint(0,news_title.shape[0]-1)\n",
        "sample_news = news_title[row]\n",
        "\n",
        "print('News: {}'.format(sample_news))\n",
        "if fake_news(sample_news):\n",
        "  print('Prediction: This is a FAKE news!')\n",
        "else:\n",
        "  print('Prediction: This is a REAL news.')"
      ],
      "execution_count": 47,
      "outputs": [
        {
          "output_type": "stream",
          "text": [
            "News: Syria, Russia, Mosul: Your Friday Evening Briefing - The New York Times\n",
            "Prediction: This is a REAL news.\n"
          ],
          "name": "stdout"
        }
      ]
    },
    {
      "cell_type": "code",
      "metadata": {
        "id": "gp4_uen27JS9",
        "colab_type": "code",
        "colab": {
          "base_uri": "https://localhost:8080/",
          "height": 52
        },
        "outputId": "5727c3bc-5b30-4242-bb17-82a07ca13f07"
      },
      "source": [
        "# Predicting values\n",
        "row = randint(0,news_title.shape[0]-1)\n",
        "sample_news = news_title[row]\n",
        "\n",
        "print('News: {}'.format(sample_news))\n",
        "if fake_news(sample_news):\n",
        "  print('Prediction: This is a FAKE news!')\n",
        "else:\n",
        "  print('Prediction: This is a REAL news.')"
      ],
      "execution_count": 48,
      "outputs": [
        {
          "output_type": "stream",
          "text": [
            "News: Clinton's Blitzkrieg Campaign: the Savage Politics of the Oligarchs\n",
            "Prediction: This is a FAKE news!\n"
          ],
          "name": "stdout"
        }
      ]
    }
  ]
}
